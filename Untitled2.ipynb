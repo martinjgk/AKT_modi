{
  "nbformat": 4,
  "nbformat_minor": 0,
  "metadata": {
    "colab": {
      "private_outputs": true,
      "provenance": [],
      "gpuType": "T4"
    },
    "kernelspec": {
      "name": "python3",
      "display_name": "Python 3"
    },
    "language_info": {
      "name": "python"
    },
    "accelerator": "GPU"
  },
  "cells": [
    {
      "cell_type": "code",
      "source": [
        "%cd /content/drive/MyDrive/ColabNotebooks/AKT"
      ],
      "metadata": {
        "id": "A_u2YcWiddMG"
      },
      "execution_count": null,
      "outputs": []
    },
    {
      "cell_type": "code",
      "source": [
        "%run test.py --dataset assist2009_pid --model akt_pid --max_iter 20"
      ],
      "metadata": {
        "id": "il6g4qoJfUJr"
      },
      "execution_count": null,
      "outputs": []
    }
  ]
}